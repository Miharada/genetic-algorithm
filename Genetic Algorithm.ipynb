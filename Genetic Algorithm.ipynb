{
 "metadata": {
  "language_info": {
   "codemirror_mode": {
    "name": "ipython",
    "version": 3
   },
   "file_extension": ".py",
   "mimetype": "text/x-python",
   "name": "python",
   "nbconvert_exporter": "python",
   "pygments_lexer": "ipython3",
   "version": "3.7.2-final"
  },
  "orig_nbformat": 2,
  "kernelspec": {
   "name": "Python 3.7.2 64-bit",
   "display_name": "Python 3.7.2 64-bit",
   "metadata": {
    "interpreter": {
     "hash": "2443fc7bb80d38d6f09a9bc829d5db8b4189d16464fd7f110ebc78db68ff2421"
    }
   }
  }
 },
 "nbformat": 4,
 "nbformat_minor": 2,
 "cells": [
  {
   "cell_type": "code",
   "execution_count": 21,
   "metadata": {},
   "outputs": [],
   "source": [
    "import numpy as np\n",
    "import pandas as pd\n",
    "import matplotlib.pyplot as plt"
   ]
  },
  {
   "cell_type": "code",
   "execution_count": 22,
   "metadata": {},
   "outputs": [],
   "source": [
    "def h(x1,x2):\n",
    "    return (np.cos(x1) * np.sin(x2)) - (x1/(np.power((x2),2)+1))"
   ]
  },
  {
   "cell_type": "code",
   "execution_count": 23,
   "metadata": {},
   "outputs": [],
   "source": [
    "def kromosom_awal(populasi, panjang_kromosom):\n",
    "    kromosom = []\n",
    "    for i in range(populasi):\n",
    "        hasil = \"\"\n",
    "        for j in range(panjang_kromosom*2):\n",
    "            hasil+= str(np.random.randint(2))\n",
    "        kromosom.append([hasil])  \n",
    "    return kromosom  \n"
   ]
  },
  {
   "cell_type": "code",
   "execution_count": 24,
   "metadata": {
    "tags": []
   },
   "outputs": [],
   "source": [
    "#g = kromosom\n",
    "#N = Max generasi\n",
    "#ra,rb = batas atas, batas bawah\n",
    "\n",
    "def DivSum(N):\n",
    "    hasil = 0\n",
    "    for i in range(1,N+1):\n",
    "        hasil += 1.0/(np.power(2,int(i)))\n",
    "    return hasil\n",
    "\n",
    "def SumG(g):\n",
    "    hasil = 0\n",
    "    counter = 1\n",
    "    for i in g:\n",
    "        hasil += int(i) * (1.0/ np.power(2,counter)) \n",
    "        counter += 1\n",
    "    return hasil\n",
    "\n",
    "def X(ra1, rb1, ra2, rb2, N, g1, g2):\n",
    "    return [rb1 + (((ra1 - rb1)/DivSum(N)) * SumG(g1)), rb2 + (((ra2 - rb2)/DivSum(N)) * SumG(g2))] \n"
   ]
  },
  {
   "cell_type": "code",
   "execution_count": 25,
   "metadata": {
    "tags": []
   },
   "outputs": [],
   "source": [
    "\n",
    "def calcx(Kromosom,panjang_kromosom):\n",
    "    x = []\n",
    "    for i in Kromosom:\n",
    "        x.append(X(x1_constraint[1], x1_constraint[0], x2_constraint[1],  x2_constraint[0] , populasi, i[0:panjang_kromosom], i[panjang_kromosom:]))\n",
    "    return x\n",
    "    \n"
   ]
  },
  {
   "cell_type": "code",
   "execution_count": 26,
   "metadata": {},
   "outputs": [],
   "source": [
    "\n",
    "def fitness_rev(generasi, c):\n",
    "    return np.power(c,-h(generasi['x1'],generasi['x2']))"
   ]
  },
  {
   "cell_type": "code",
   "execution_count": 27,
   "metadata": {},
   "outputs": [],
   "source": [
    "def probability_individu(df):\n",
    "    peluang = []\n",
    "    for i in df['fitness']:\n",
    "        peluang.append(i/sum(df['fitness']))\n",
    "    return peluang"
   ]
  },
  {
   "cell_type": "code",
   "execution_count": 28,
   "metadata": {},
   "outputs": [],
   "source": [
    "def orangtua_roulette(df):\n",
    "    roulette_field = []\n",
    "    ortu = pd.DataFrame([])\n",
    "    peluang = probability_individu(df)\n",
    "    sums = 0\n",
    "    for k in peluang:\n",
    "        sums += k\n",
    "        roulette_field.append(sums)\n",
    "    batas_awal = 0 \n",
    "    j = 0\n",
    "    for i in roulette_field:\n",
    "        rndm = round(np.random.random(),3) + np.random.uniform(0,0.5)\n",
    "        if (rndm < i):\n",
    "            ortu = pd.concat([ortu, df.loc[[j]]])\n",
    "        j+=1\n",
    "    return ortu"
   ]
  },
  {
   "cell_type": "code",
   "execution_count": 29,
   "metadata": {},
   "outputs": [],
   "source": [
    "def crossover(sampel):\n",
    "    p1 = np.random.randint(3, round(length_kromosom/2))\n",
    "    p2 = np.random.randint(p1, length_kromosom)\n",
    "    p3 = np.random.randint(p2, length_kromosom*2)\n",
    "\n",
    "    hasil = []\n",
    "    bapa = sampel['Kromosom'].values[0]\n",
    "    ibu = sampel['Kromosom'].values[1]\n",
    "\n",
    "    anak_1 = bapa[:p1] + ibu[p1:p2] + bapa[p2:p3] + ibu[p3:] \n",
    "    anak_2 = ibu[:p1] + bapa[p1:p2] + ibu[p2:p3] + bapa[p3:]\n",
    "    return anak_1, anak_2"
   ]
  },
  {
   "cell_type": "code",
   "execution_count": 30,
   "metadata": {},
   "outputs": [],
   "source": [
    "def hasilCrossover_roulette(parents):\n",
    "    next_gen = []\n",
    "    jumlah_next_gen = 0\n",
    "    # print(parents)\n",
    "    while(jumlah_next_gen <= len(parents['Kromosom'])):\n",
    "        sampel = parents[['Kromosom']].sample(n=2, replace=True)\n",
    "        gen = crossover(sampel)\n",
    "        next_gen.append(gen[0])\n",
    "        next_gen.append(gen[1])\n",
    "        jumlah_next_gen =len(next_gen)\n",
    "    return next_gen"
   ]
  },
  {
   "cell_type": "code",
   "execution_count": 31,
   "metadata": {
    "tags": []
   },
   "outputs": [],
   "source": [
    "\n",
    "def gencheck(kromosom, Pm):\n",
    "    hasil = \"\"\n",
    "    for i in range(len(kromosom)):\n",
    "        a = np.random.uniform(0,1)/10\n",
    "        if(a <= Pm):\n",
    "            if(kromosom[i] == '0'):\n",
    "                hasil+='1'\n",
    "            else:\n",
    "                hasil+='0'\n",
    "        else:\n",
    "            hasil+=kromosom[i]\n",
    "    return hasil\n",
    "\n",
    "\n",
    "def mutasi(generasi, Pm):\n",
    "    mutant = []\n",
    "    for i in generasi:\n",
    "        mutant.append(gencheck(i, Pm))\n",
    "    return mutant\n",
    "        "
   ]
  },
  {
   "cell_type": "code",
   "execution_count": 32,
   "metadata": {},
   "outputs": [],
   "source": [
    "def seleksi_rev(prev_gen, next_gens):\n",
    "    for i in range(len(next_gens['fitness'])):\n",
    "        minimum_prev = np.argmin(prev_gen['fitness'])\n",
    "        minimum_next = np.argmin(next_gens['fitness'])\n",
    "        if(prev_gen['fitness'].loc[minimum_prev] < next_gens['fitness'].loc[minimum_next]):\n",
    "            prev_gen['Kromosom'].loc[minimum_prev] = next_gens['Kromosom'].loc[minimum_next]\n",
    "            prev_gen['x1'].loc[minimum_prev] = next_gens['x1'].loc[minimum_next]\n",
    "            prev_gen['x2'].loc[minimum_prev] = next_gens['x2'].loc[minimum_next]\n",
    "            prev_gen['fitness'].loc[minimum_prev] = next_gens['fitness'].loc[minimum_next]\n",
    "            # print(\"ini\", i)\n",
    "        next_gens = next_gens.drop([minimum_next])\n",
    "        next_gens = next_gens.reset_index(drop=True)\n",
    "    return prev_gen"
   ]
  },
  {
   "cell_type": "code",
   "execution_count": 33,
   "metadata": {},
   "outputs": [],
   "source": [
    "def makegraph(total_fit):\n",
    "    plt.xlabel(\"Generasi\")\n",
    "    plt.ylabel(\"Fitness\")\n",
    "    plt.plot(total_fit)"
   ]
  },
  {
   "cell_type": "code",
   "execution_count": 34,
   "metadata": {},
   "outputs": [],
   "source": [
    "def XFIT(df,c, len_kromosom):\n",
    "     x = pd.DataFrame(calcx(df['Kromosom'], len_kromosom), columns = ['x1', 'x2'])\n",
    "     fit = pd.DataFrame(fitness_rev(x,c), columns=['fitness'])\n",
    "     df = pd.concat([df, x, fit],  axis=1)\n",
    "     return df"
   ]
  },
  {
   "cell_type": "code",
   "execution_count": 35,
   "metadata": {},
   "outputs": [],
   "source": [
    "def ProgramKeturunan(populasi, panjang_kromosom, generasi_akhir, Pm, c):\n",
    "    gen_1 = pd.DataFrame(kromosom_awal(populasi, panjang_kromosom), columns=['Kromosom'])\n",
    "    \n",
    "\n",
    "    gen_1 = XFIT(gen_1, c, panjang_kromosom)\n",
    "\n",
    "    total_fit = [sum(gen_1['fitness'])]\n",
    "   \n",
    "\n",
    "    gen_dummy = gen_1.copy()\n",
    "\n",
    "    for i in range(1, generasi_akhir):\n",
    "\n",
    "\n",
    "        gen_dummy_p = orangtua_roulette(gen_dummy)\n",
    "\n",
    "\n",
    "        gen_lanjut = hasilCrossover_roulette(gen_dummy_p)\n",
    "        \n",
    "\n",
    "        gen_lanjut = pd.DataFrame(mutasi(gen_lanjut, Pm), columns = [\"Kromosom\"])\n",
    "        \n",
    "        \n",
    "\n",
    "\n",
    "        gen_lanjut = XFIT(gen_lanjut, c, panjang_kromosom)\n",
    "        \n",
    "        \n",
    "        gen_lanjut = seleksi_rev(gen_dummy, gen_lanjut)\n",
    "        total_fit.append(sum(gen_lanjut['fitness']))\n",
    "\n",
    "        kromosom_dummy = pd.DataFrame(gen_lanjut['Kromosom'], columns=['Kromosom'])\n",
    "\n",
    "\n",
    "       \n",
    "        gen_dummy = kromosom_dummy.copy()\n",
    "        gen_dummy = XFIT(gen_dummy, c, panjang_kromosom)\n",
    "\n",
    "\n",
    "    #makegraph(total_fit)\n",
    "    \n",
    "    return gen_lanjut\n",
    "\n"
   ]
  },
  {
   "cell_type": "code",
   "execution_count": 36,
   "metadata": {
    "tags": []
   },
   "outputs": [],
   "source": [
    "x1_constraint = [-1,2]\n",
    "x2_constraint = [-1,1]\n",
    "populasi = 30\n",
    "length_kromosom = 10\n",
    "Pm = 1/populasi\n",
    "c = 2\n",
    "max_generasi = 333"
   ]
  },
  {
   "cell_type": "code",
   "execution_count": 37,
   "metadata": {},
   "outputs": [
    {
     "output_type": "execute_result",
     "data": {
      "text/plain": [
       "                Kromosom        x1        x2   fitness\n",
       "0   11111111101001010100  1.994141  0.164063  4.024945\n",
       "1   11111111111001000110  1.997070  0.136719  4.046798\n",
       "2   11111111011001001011  1.991211  0.146484  4.024903\n",
       "3   11111111001001011000  1.988281  0.171875  4.001600\n",
       "4   11111111101000111100  1.994141  0.117188  4.042249\n",
       "5   11111111111001100100  1.997070  0.195313  4.010920\n",
       "6   11111110101001001001  1.982422  0.142578  3.999383\n",
       "7   11111111111001000010  1.997070  0.128906  4.049042\n",
       "8   11111110111000100000  1.985352  0.062500  4.007726\n",
       "9   11111111001000101101  1.988281  0.087891  4.024001\n",
       "10  11111111001000100101  1.988281  0.072266  4.020089\n",
       "11  11111110101000101001  1.982422  0.080078  4.004982\n",
       "12  11111110011000110010  1.979492  0.097656  3.998727\n",
       "13  11111111111000000100  1.997070  0.007813  4.000496\n",
       "14  11111111111001010001  1.997070  0.158203  4.037463\n",
       "15  11111111001001000010  1.988281  0.128906  4.021976\n",
       "16  11111111011001001100  1.991211  0.148438  4.024038\n",
       "17  11111111111000001011  1.997070  0.021484  4.013975\n",
       "18  11111111101000100100  1.994141  0.070313  4.036743\n",
       "19  11111111111001000001  1.997070  0.126953  4.049505\n",
       "20  11111111001000011001  1.988281  0.048828  4.009277\n",
       "21  11111110111001010010  1.985352  0.160156  3.999816\n",
       "22  11111111011001001011  1.991211  0.146484  4.024903\n",
       "23  11111110011000101011  1.979492  0.083984  3.997132\n",
       "24  11111111001000100000  1.988281  0.062500  4.016307\n",
       "25  11111111011001010011  1.991211  0.162109  4.016939\n",
       "26  11111111011001010100  1.991211  0.164063  4.015778\n",
       "27  11111111111001011000  1.997070  0.171875  4.029177\n",
       "28  11111110101000100010  1.982422  0.066406  4.000743\n",
       "29  11111110011000110001  1.979492  0.095703  3.998620"
      ],
      "text/html": "<div>\n<style scoped>\n    .dataframe tbody tr th:only-of-type {\n        vertical-align: middle;\n    }\n\n    .dataframe tbody tr th {\n        vertical-align: top;\n    }\n\n    .dataframe thead th {\n        text-align: right;\n    }\n</style>\n<table border=\"1\" class=\"dataframe\">\n  <thead>\n    <tr style=\"text-align: right;\">\n      <th></th>\n      <th>Kromosom</th>\n      <th>x1</th>\n      <th>x2</th>\n      <th>fitness</th>\n    </tr>\n  </thead>\n  <tbody>\n    <tr>\n      <th>0</th>\n      <td>11111111101001010100</td>\n      <td>1.994141</td>\n      <td>0.164063</td>\n      <td>4.024945</td>\n    </tr>\n    <tr>\n      <th>1</th>\n      <td>11111111111001000110</td>\n      <td>1.997070</td>\n      <td>0.136719</td>\n      <td>4.046798</td>\n    </tr>\n    <tr>\n      <th>2</th>\n      <td>11111111011001001011</td>\n      <td>1.991211</td>\n      <td>0.146484</td>\n      <td>4.024903</td>\n    </tr>\n    <tr>\n      <th>3</th>\n      <td>11111111001001011000</td>\n      <td>1.988281</td>\n      <td>0.171875</td>\n      <td>4.001600</td>\n    </tr>\n    <tr>\n      <th>4</th>\n      <td>11111111101000111100</td>\n      <td>1.994141</td>\n      <td>0.117188</td>\n      <td>4.042249</td>\n    </tr>\n    <tr>\n      <th>5</th>\n      <td>11111111111001100100</td>\n      <td>1.997070</td>\n      <td>0.195313</td>\n      <td>4.010920</td>\n    </tr>\n    <tr>\n      <th>6</th>\n      <td>11111110101001001001</td>\n      <td>1.982422</td>\n      <td>0.142578</td>\n      <td>3.999383</td>\n    </tr>\n    <tr>\n      <th>7</th>\n      <td>11111111111001000010</td>\n      <td>1.997070</td>\n      <td>0.128906</td>\n      <td>4.049042</td>\n    </tr>\n    <tr>\n      <th>8</th>\n      <td>11111110111000100000</td>\n      <td>1.985352</td>\n      <td>0.062500</td>\n      <td>4.007726</td>\n    </tr>\n    <tr>\n      <th>9</th>\n      <td>11111111001000101101</td>\n      <td>1.988281</td>\n      <td>0.087891</td>\n      <td>4.024001</td>\n    </tr>\n    <tr>\n      <th>10</th>\n      <td>11111111001000100101</td>\n      <td>1.988281</td>\n      <td>0.072266</td>\n      <td>4.020089</td>\n    </tr>\n    <tr>\n      <th>11</th>\n      <td>11111110101000101001</td>\n      <td>1.982422</td>\n      <td>0.080078</td>\n      <td>4.004982</td>\n    </tr>\n    <tr>\n      <th>12</th>\n      <td>11111110011000110010</td>\n      <td>1.979492</td>\n      <td>0.097656</td>\n      <td>3.998727</td>\n    </tr>\n    <tr>\n      <th>13</th>\n      <td>11111111111000000100</td>\n      <td>1.997070</td>\n      <td>0.007813</td>\n      <td>4.000496</td>\n    </tr>\n    <tr>\n      <th>14</th>\n      <td>11111111111001010001</td>\n      <td>1.997070</td>\n      <td>0.158203</td>\n      <td>4.037463</td>\n    </tr>\n    <tr>\n      <th>15</th>\n      <td>11111111001001000010</td>\n      <td>1.988281</td>\n      <td>0.128906</td>\n      <td>4.021976</td>\n    </tr>\n    <tr>\n      <th>16</th>\n      <td>11111111011001001100</td>\n      <td>1.991211</td>\n      <td>0.148438</td>\n      <td>4.024038</td>\n    </tr>\n    <tr>\n      <th>17</th>\n      <td>11111111111000001011</td>\n      <td>1.997070</td>\n      <td>0.021484</td>\n      <td>4.013975</td>\n    </tr>\n    <tr>\n      <th>18</th>\n      <td>11111111101000100100</td>\n      <td>1.994141</td>\n      <td>0.070313</td>\n      <td>4.036743</td>\n    </tr>\n    <tr>\n      <th>19</th>\n      <td>11111111111001000001</td>\n      <td>1.997070</td>\n      <td>0.126953</td>\n      <td>4.049505</td>\n    </tr>\n    <tr>\n      <th>20</th>\n      <td>11111111001000011001</td>\n      <td>1.988281</td>\n      <td>0.048828</td>\n      <td>4.009277</td>\n    </tr>\n    <tr>\n      <th>21</th>\n      <td>11111110111001010010</td>\n      <td>1.985352</td>\n      <td>0.160156</td>\n      <td>3.999816</td>\n    </tr>\n    <tr>\n      <th>22</th>\n      <td>11111111011001001011</td>\n      <td>1.991211</td>\n      <td>0.146484</td>\n      <td>4.024903</td>\n    </tr>\n    <tr>\n      <th>23</th>\n      <td>11111110011000101011</td>\n      <td>1.979492</td>\n      <td>0.083984</td>\n      <td>3.997132</td>\n    </tr>\n    <tr>\n      <th>24</th>\n      <td>11111111001000100000</td>\n      <td>1.988281</td>\n      <td>0.062500</td>\n      <td>4.016307</td>\n    </tr>\n    <tr>\n      <th>25</th>\n      <td>11111111011001010011</td>\n      <td>1.991211</td>\n      <td>0.162109</td>\n      <td>4.016939</td>\n    </tr>\n    <tr>\n      <th>26</th>\n      <td>11111111011001010100</td>\n      <td>1.991211</td>\n      <td>0.164063</td>\n      <td>4.015778</td>\n    </tr>\n    <tr>\n      <th>27</th>\n      <td>11111111111001011000</td>\n      <td>1.997070</td>\n      <td>0.171875</td>\n      <td>4.029177</td>\n    </tr>\n    <tr>\n      <th>28</th>\n      <td>11111110101000100010</td>\n      <td>1.982422</td>\n      <td>0.066406</td>\n      <td>4.000743</td>\n    </tr>\n    <tr>\n      <th>29</th>\n      <td>11111110011000110001</td>\n      <td>1.979492</td>\n      <td>0.095703</td>\n      <td>3.998620</td>\n    </tr>\n  </tbody>\n</table>\n</div>"
     },
     "metadata": {},
     "execution_count": 37
    }
   ],
   "source": [
    "Hasil_generasi = ProgramKeturunan(populasi, length_kromosom, max_generasi, Pm, c)\n",
    "Hasil_generasi"
   ]
  },
  {
   "cell_type": "code",
   "execution_count": 38,
   "metadata": {},
   "outputs": [
    {
     "output_type": "stream",
     "name": "stdout",
     "text": [
      "Individu Terbaik\n"
     ]
    },
    {
     "output_type": "execute_result",
     "data": {
      "text/plain": [
       "                Kromosom       x1        x2   fitness\n",
       "19  11111111111001000001  1.99707  0.126953  4.049505"
      ],
      "text/html": "<div>\n<style scoped>\n    .dataframe tbody tr th:only-of-type {\n        vertical-align: middle;\n    }\n\n    .dataframe tbody tr th {\n        vertical-align: top;\n    }\n\n    .dataframe thead th {\n        text-align: right;\n    }\n</style>\n<table border=\"1\" class=\"dataframe\">\n  <thead>\n    <tr style=\"text-align: right;\">\n      <th></th>\n      <th>Kromosom</th>\n      <th>x1</th>\n      <th>x2</th>\n      <th>fitness</th>\n    </tr>\n  </thead>\n  <tbody>\n    <tr>\n      <th>19</th>\n      <td>11111111111001000001</td>\n      <td>1.99707</td>\n      <td>0.126953</td>\n      <td>4.049505</td>\n    </tr>\n  </tbody>\n</table>\n</div>"
     },
     "metadata": {},
     "execution_count": 38
    }
   ],
   "source": [
    "#INDIVIDU TERBAIK\n",
    "print(\"Individu Terbaik\")\n",
    "Hasil_generasi.loc[[np.argmax(Hasil_generasi['fitness'])]]"
   ]
  },
  {
   "cell_type": "code",
   "execution_count": 39,
   "metadata": {},
   "outputs": [],
   "source": [
    "#Rata-Rata Fitness Generasi Terakhir\n",
    "\n",
    "# for i in range(10):\n",
    "#     print(sum(ProgramKeturunan(populasi, length_kromosom, max_generasi, Pm, c)['fitness'])/populasi)\n",
    "    "
   ]
  },
  {
   "cell_type": "code",
   "execution_count": 40,
   "metadata": {
    "tags": []
   },
   "outputs": [],
   "source": [
    "# (ProgramKeturunan(populasi, length_kromosom, max_generasi, Pm, c))#.to_excel(\"Hasil_rev2.xlsx\")"
   ]
  },
  {
   "cell_type": "code",
   "execution_count": null,
   "metadata": {},
   "outputs": [],
   "source": []
  }
 ]
}